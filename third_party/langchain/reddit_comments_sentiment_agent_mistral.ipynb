{
 "cells": [
  {
   "cell_type": "markdown",
   "metadata": {},
   "source": [
    "# Analyzing Reddit Comments Sentiment using MistralAI and LangGraph"
   ]
  },
  {
   "cell_type": "markdown",
   "metadata": {},
   "source": [
    "## Overview\n",
    "\n",
    "This notebook was created by Shay Elmualem ([Github](https://github.com/norbinsh/), [Linkedin](https://www.linkedin.com/in/shay-elmualem/))\n",
    "This notebook analyzes the sentiment of Reddit post comments using LangGraph and MistralAI's large language model (LLM).\n",
    "It fetches Reddit posts, processes comments, performs sentiment analysis, and visualizes the results through a graph-based workflow."
   ]
  },
  {
   "cell_type": "markdown",
   "metadata": {},
   "source": [
    "## Brief\n",
    "\n",
    "- Fetches a Reddit post and its comments.\n",
    "- Analyzes each comment's sentiment using MistralAI's LLM.\n",
    "- Aggregates sentiments to determine the overall sentiment of the discussion.\n",
    "- Visualizes the workflow and results with LangGraph and Rich."
   ]
  },
  {
   "cell_type": "markdown",
   "metadata": {},
   "source": [
    "## Components\n",
    "\n",
    "- Reddit Client: Uses praw to interact with Reddit's API.\n",
    "- Data Models: Structured representations with pydantic.\n",
    "- Language Model: MistralAI's LLM for sentiment analysis.\n",
    "- Prompt Template: Guides the LLM for consistent analysis.\n",
    "- Graph Workflow: Managed by LangGraph for process sequencing.\n",
    "- Visualization: Displays results using rich."
   ]
  },
  {
   "cell_type": "markdown",
   "metadata": {},
   "source": [
    "## Setup and Installation\n",
    "\n",
    "Install necessary packages with:"
   ]
  },
  {
   "cell_type": "code",
   "execution_count": 121,
   "metadata": {},
   "outputs": [
    {
     "name": "stdout",
     "output_type": "stream",
     "text": [
      "Note: you may need to restart the kernel to use updated packages.\n",
      "Note: you may need to restart the kernel to use updated packages.\n",
      "Note: you may need to restart the kernel to use updated packages.\n",
      "Note: you may need to restart the kernel to use updated packages.\n",
      "Note: you may need to restart the kernel to use updated packages.\n",
      "Note: you may need to restart the kernel to use updated packages.\n",
      "Note: you may need to restart the kernel to use updated packages.\n",
      "Requirement already satisfied: rich==13.9.4 in ./.venv/lib/python3.9/site-packages (13.9.4)\n",
      "Requirement already satisfied: markdown-it-py>=2.2.0 in ./.venv/lib/python3.9/site-packages (from rich==13.9.4) (3.0.0)\n",
      "Requirement already satisfied: pygments<3.0.0,>=2.13.0 in ./.venv/lib/python3.9/site-packages (from rich==13.9.4) (2.18.0)\n",
      "Requirement already satisfied: typing-extensions<5.0,>=4.0.0 in ./.venv/lib/python3.9/site-packages (from rich==13.9.4) (4.12.2)\n",
      "Requirement already satisfied: mdurl~=0.1 in ./.venv/lib/python3.9/site-packages (from markdown-it-py>=2.2.0->rich==13.9.4) (0.1.2)\n",
      "Note: you may need to restart the kernel to use updated packages.\n"
     ]
    }
   ],
   "source": [
    "%pip install -q langchain==0.3.13\n",
    "%pip install -q langchain_community==0.3.13\n",
    "%pip install -q langchain-mistralai==0.2.4\n",
    "%pip install -q langgraph==0.2.60\n",
    "%pip install -q praw==7.8.1\n",
    "%pip install -q python-dotenv==1.0.1\n",
    "%pip install -q pydantic==2.10.4\n",
    "%pip install rich==13.9.4"
   ]
  },
  {
   "cell_type": "markdown",
   "metadata": {},
   "source": [
    "## Required Environment Variables\n",
    "\n",
    "Create a .env file with:\n",
    "\n",
    "- MISTRAL_API_KEY\n",
    "- REDDIT_PRAW_CLIENT_ID\n",
    "- REDDIT_PRAW_CLIENT_SECRET\n",
    "\n",
    "Or use the helper function in the notebook to set them interactively."
   ]
  },
  {
   "cell_type": "code",
   "execution_count": 122,
   "metadata": {},
   "outputs": [],
   "source": [
    "from dotenv import load_dotenv\n",
    "import os, getpass\n",
    "load_dotenv()\n",
    "\n",
    "def _set_env(var: str):\n",
    "    if not os.environ.get(var):\n",
    "        os.environ[var] = getpass.getpass(f\"{var}: \")\n",
    "\n",
    "_set_env(\"MISTRAL_API_KEY\")\n",
    "_set_env(\"REDDIT_PRAW_CLIENT_ID\")\n",
    "_set_env(\"REDDIT_PRAW_CLIENT_SECRET\")"
   ]
  },
  {
   "cell_type": "markdown",
   "metadata": {},
   "source": [
    "## Imports\n",
    "\n",
    "All necessary libraries are imported at the beginning for clarity:"
   ]
  },
  {
   "cell_type": "code",
   "execution_count": 123,
   "metadata": {},
   "outputs": [],
   "source": [
    "import os\n",
    "import re\n",
    "import json\n",
    "\n",
    "import praw\n",
    "\n",
    "from rich import print\n",
    "from rich.console import Console\n",
    "from rich.table import Table\n",
    "import textwrap\n",
    "\n",
    "from typing import TypedDict, Annotated, List, Optional, Dict, Literal\n",
    "from pydantic import BaseModel, HttpUrl, ValidationError, Field, RootModel\n",
    "\n",
    "from langgraph.graph import Graph, END\n",
    "from langchain_core.prompts import PromptTemplate\n",
    "from langchain_core.output_parsers import JsonOutputParser\n",
    "from langchain_core.runnables import RunnablePassthrough\n",
    "from langchain_core.runnables.graph import MermaidDrawMethod\n",
    "from langchain_core.tools import StructuredTool\n",
    "\n",
    "from IPython.display import display, Image as IPImage\n",
    "\n",
    "from langchain_mistralai import ChatMistralAI\n",
    "\n"
   ]
  },
  {
   "cell_type": "markdown",
   "metadata": {},
   "source": [
    "## Reddit Client Setup\n",
    "\n",
    "Initialize the Reddit client with praw:"
   ]
  },
  {
   "cell_type": "code",
   "execution_count": 124,
   "metadata": {},
   "outputs": [],
   "source": [
    "REDDIT_USER_AGENT = \"RedditCommentsSentimentAgent\"\n",
    "MAX_COMMENT_SAMPLES = 10\n",
    "MAX_EXPANDED_COMMENTS = 0\n",
    "\n",
    "reddit = praw.Reddit(\n",
    "    client_id=os.environ.get(\"REDDIT_PRAW_CLIENT_ID\"),\n",
    "    client_secret=os.environ.get(\"REDDIT_PRAW_CLIENT_SECRET\"),\n",
    "    user_agent=REDDIT_USER_AGENT,\n",
    ")"
   ]
  },
  {
   "cell_type": "markdown",
   "metadata": {},
   "source": [
    "## Data Models\n",
    "\n",
    "Define Reddit's structured data models using pydantic:"
   ]
  },
  {
   "cell_type": "code",
   "execution_count": 125,
   "metadata": {},
   "outputs": [],
   "source": [
    "class Comment(BaseModel):\n",
    "    body: str\n",
    "\n",
    "class CommentSentiment(BaseModel):\n",
    "    sentiment_reason: str\n",
    "    sentiment_score: float # Ranging from -1 to 1, where -1 is very negative, 0 is neutral, and 1 is very positive\n",
    "\n",
    "class CommentSentiments(BaseModel):\n",
    "    sentiments: List[CommentSentiment]\n",
    "\n",
    "class RedditPost(BaseModel):\n",
    "    title: str\n",
    "    body: str\n",
    "    comments: List[Comment]"
   ]
  },
  {
   "cell_type": "markdown",
   "metadata": {},
   "source": [
    "## Reddit Data Handling Functions\n",
    "\n",
    "Functions to extract and fetch Reddit posts:"
   ]
  },
  {
   "cell_type": "code",
   "execution_count": 126,
   "metadata": {},
   "outputs": [],
   "source": [
    "def extract_post_id(url: HttpUrl) -> str:\n",
    "    pattern = r\"comments/([\\w\\d]+)/\"\n",
    "    match = re.search(pattern, str(url))\n",
    "    if match:\n",
    "        return match.group(1)\n",
    "    else:\n",
    "        raise ValueError(\"Invalid Reddit post URL.\")\n",
    "\n",
    "def fetch_post(post_id: str) -> RedditPost:\n",
    "    post = reddit.submission(id=post_id)\n",
    "    post.comments.replace_more(limit=MAX_EXPANDED_COMMENTS)\n",
    "    comments = [\n",
    "        Comment.model_validate({\"body\": comment.body})\n",
    "        for comment in post.comments.list()[:MAX_COMMENT_SAMPLES]\n",
    "    ]\n",
    "\n",
    "    return RedditPost(\n",
    "        title=post.title,\n",
    "        body=post.selftext,\n",
    "        comments=comments\n",
    "    )"
   ]
  },
  {
   "cell_type": "markdown",
   "metadata": {},
   "source": [
    "# Language Model Configuration\n",
    "\n",
    "Configure MistralAI's LLM:"
   ]
  },
  {
   "cell_type": "code",
   "execution_count": 127,
   "metadata": {},
   "outputs": [],
   "source": [
    "mistral_model = \"mistral-large-latest\"\n",
    "llm = ChatMistralAI(model=mistral_model, temperature=0)"
   ]
  },
  {
   "cell_type": "markdown",
   "metadata": {},
   "source": [
    "# Testing the LLM\n",
    "\n",
    "Verify LLM functionality:"
   ]
  },
  {
   "cell_type": "code",
   "execution_count": 128,
   "metadata": {},
   "outputs": [
    {
     "data": {
      "text/html": [
       "<pre style=\"white-space:pre;overflow-x:auto;line-height:normal;font-family:Menlo,'DejaVu Sans Mono',consolas,'Courier New',monospace\">Life on Mars is a fascinating topic. Here are some brief thoughts:\n",
       "\n",
       "- **Past Life**: Many scientists believe that Mars had liquid water and a denser atmosphere billions of years ago, \n",
       "which could have supported microbial life.\n",
       "- **Present Life**: Current conditions are harsh, but some extremophiles on Earth could theoretically survive \n",
       "Martian conditions, so it's not ruled out.\n",
       "- **Future Life**: Mars could potentially be habitable for humans with terraforming, but that's a long-term and \n",
       "controversial prospect.\n",
       "- **Missions**: Rovers like Perseverance are currently exploring Mars to seek signs of ancient life and prepare for\n",
       "future human exploration.\n",
       "</pre>\n"
      ],
      "text/plain": [
       "Life on Mars is a fascinating topic. Here are some brief thoughts:\n",
       "\n",
       "- **Past Life**: Many scientists believe that Mars had liquid water and a denser atmosphere billions of years ago, \n",
       "which could have supported microbial life.\n",
       "- **Present Life**: Current conditions are harsh, but some extremophiles on Earth could theoretically survive \n",
       "Martian conditions, so it's not ruled out.\n",
       "- **Future Life**: Mars could potentially be habitable for humans with terraforming, but that's a long-term and \n",
       "controversial prospect.\n",
       "- **Missions**: Rovers like Perseverance are currently exploring Mars to seek signs of ancient life and prepare for\n",
       "future human exploration.\n"
      ]
     },
     "metadata": {},
     "output_type": "display_data"
    }
   ],
   "source": [
    "test_llm = llm.invoke(\"thoughts on life on mars? keep it very brief :)\").content\n",
    "print(test_llm)"
   ]
  },
  {
   "cell_type": "markdown",
   "metadata": {},
   "source": [
    "# Sentiment Analysis Pipeline"
   ]
  },
  {
   "cell_type": "markdown",
   "metadata": {},
   "source": [
    "## Prompt Template\n",
    "\n",
    "Define the prompt for sentiment analysis:"
   ]
  },
  {
   "cell_type": "code",
   "execution_count": 129,
   "metadata": {},
   "outputs": [],
   "source": [
    "template = \"\"\"\n",
    "You are an expert in sentiment analysis, specifically for social media content. Your task is to analyze the sentiment of comments on a Reddit post, considering the context of the original post.\n",
    "\n",
    "Here are the comments you'll be analyzing:\n",
    "\n",
    "{comments}\n",
    "\n",
    "Now, read the Reddit post these comments are responding to:\n",
    "\n",
    "Title: <reddit_post_title>{reddit_post_title}</reddit_post_title>\n",
    "\n",
    "Body: <reddit_post_body>{reddit_post_body}</reddit_post_body>\n",
    "\n",
    "For each comment, follow these steps:\n",
    "\n",
    "1. Read the comment carefully.\n",
    "2. Consider how the comment relates to the original post.\n",
    "3. Analyze the sentiment, taking into account:\n",
    "   - The language used\n",
    "   - Any emotional expressions\n",
    "   - The context of the original post\n",
    "4. Identify and quote key phrases that indicate sentiment.\n",
    "5. Consider both positive and negative aspects of the comment.\n",
    "6. Determine a sentiment score from -1 (very negative) to 1 (very positive), where 0 is neutral.\n",
    "7. Provide a brief explanation of the sentiment.\n",
    "\n",
    "IMPORTANT: Respond ONLY with a JSON object containing a \"sentiments\" key. The value of \"sentiments\" should be an array of objects, each representing the analysis for a comment. The response should NOT include any other fields like 'post_summary'.\n",
    "\n",
    "The JSON object should be in the following format:\n",
    "{{\n",
    "  \"sentiments\": [\n",
    "    {{\n",
    "      \"sentiment_reason\": \"Reason for sentiment\",\n",
    "      \"sentiment_score\": 0.5\n",
    "    }},\n",
    "    {{\n",
    "      \"sentiment_reason\": \"Another reason\",\n",
    "      \"sentiment_score\": -0.3\n",
    "    }}\n",
    "  ]\n",
    "}}\n",
    "\"\"\""
   ]
  },
  {
   "cell_type": "markdown",
   "metadata": {},
   "source": [
    "## Structured Output\n",
    "\n",
    "Ensure consistent JSON output:"
   ]
  },
  {
   "cell_type": "code",
   "execution_count": 130,
   "metadata": {},
   "outputs": [],
   "source": [
    "structured_llm = llm.with_structured_output(CommentSentiments, method=\"json_mode\")"
   ]
  },
  {
   "cell_type": "markdown",
   "metadata": {},
   "source": [
    "## Graph State Management\n",
    "\n",
    "Define the graph's state structure:"
   ]
  },
  {
   "cell_type": "code",
   "execution_count": 131,
   "metadata": {},
   "outputs": [],
   "source": [
    "class GraphState(TypedDict):\n",
    "    url: str\n",
    "    post: RedditPost\n",
    "    comment_sentiments: CommentSentiments\n",
    "    overall_sentiment: float\n",
    "    is_valid: bool"
   ]
  },
  {
   "cell_type": "markdown",
   "metadata": {},
   "source": [
    "## Agent Functions\n",
    "\n",
    "Functions executed by the agent:"
   ]
  },
  {
   "cell_type": "code",
   "execution_count": 132,
   "metadata": {},
   "outputs": [],
   "source": [
    "\n",
    "\n",
    "def fetch_reddit_content(state: GraphState) -> GraphState:\n",
    "    post_id = extract_post_id(state[\"url\"])\n",
    "    fetched_post = fetch_post(post_id)\n",
    "    assert isinstance(fetched_post, RedditPost), f\"fetch_post returned {type(fetched_post)}\"\n",
    "    state[\"post\"] = fetched_post\n",
    "    return state\n",
    "\n",
    "def validate_reddit_content(state: GraphState) -> GraphState:\n",
    "    state[\"is_valid\"] = bool(state[\"post\"].comments)\n",
    "    return state\n",
    "\n",
    "def determine_path(state: GraphState) -> str:\n",
    "    return \"analyze\" if state[\"is_valid\"] else END\n",
    "\n",
    "def calculate_overall_sentiment(state: GraphState) -> GraphState:\n",
    "    sentiments = [s.sentiment_score for s in state[\"comment_sentiments\"].sentiments]\n",
    "    state[\"overall_sentiment\"] = sum(sentiments) / len(sentiments) if sentiments else 0.0\n",
    "    return state\n",
    "\n",
    "def analyze_comment_sentiment(state: GraphState) -> GraphState:\n",
    "    prompt = PromptTemplate(template=template)\n",
    "    chain = prompt | structured_llm \n",
    "    \n",
    "    formatted_comments = \"\\n\\n\".join(\n",
    "        f\"Comment {i+1}:\\n{comment.body}\" for i, comment in enumerate(state[\"post\"].comments)\n",
    "    )\n",
    "\n",
    "    result = chain.invoke({\n",
    "        \"reddit_post_title\": state[\"post\"].title,\n",
    "        \"reddit_post_body\": state[\"post\"].body,\n",
    "        \"comments\": formatted_comments\n",
    "    })\n",
    "\n",
    "    try:\n",
    "        state[\"comment_sentiments\"] = result\n",
    "    except ValidationError as e:\n",
    "        print(\"Custom Validation Error in CommentSentiments:\", e)\n",
    "        raise\n",
    "\n",
    "    return state"
   ]
  },
  {
   "cell_type": "markdown",
   "metadata": {},
   "source": [
    "## Result Visualization\n",
    "\n",
    "Display results using rich:"
   ]
  },
  {
   "cell_type": "code",
   "execution_count": 133,
   "metadata": {},
   "outputs": [],
   "source": [
    "console = Console()\n",
    "\n",
    "def print_analysis(state: GraphState) -> GraphState:\n",
    "    console.print(\"\\n[bold underline]Reddit Comment Sentiment Analysis[/bold underline]\\n\")\n",
    "    console.print(f\"[bold]Post:[/bold] {state['post'].title}\\n\")\n",
    "    console.print(\"[bold]Individual Comments Analysis:[/bold]\")\n",
    "    \n",
    "    table = Table(show_header=True, header_style=\"bold white\")\n",
    "    table.add_column(\"Comment\", style=\"dim\", width=10)\n",
    "    table.add_column(\"Sentiment\")\n",
    "    table.add_column(\"Reason\", overflow=\"fold\")\n",
    "    \n",
    "    for i, (comment, sentiment) in enumerate(zip(state['post'].comments, state['comment_sentiments'].sentiments), 1):\n",
    "        score = sentiment.sentiment_score\n",
    "        if score > 0.1:\n",
    "            sentiment_display = f\"[green]😊 {score:+.1f}[/green]\"\n",
    "        elif score < -0.1:\n",
    "            sentiment_display = f\"[red]😞 {score:+.1f}[/red]\"\n",
    "        else:\n",
    "            sentiment_display = f\"[yellow]😐 {score:+.1f}[/yellow]\"\n",
    "        \n",
    "        wrapped_reason = textwrap.fill(sentiment.sentiment_reason, width=50)\n",
    "        \n",
    "        table.add_row(str(i), sentiment_display, wrapped_reason)\n",
    "    \n",
    "    console.print(table)\n",
    "    \n",
    "    overall_score = state['overall_sentiment']\n",
    "    if overall_score > 0.1:\n",
    "        overall_display = f\"[green]😊 {overall_score:+.2f}[/green]\"\n",
    "    elif overall_score < -0.1:\n",
    "        overall_display = f\"[red]😞 {overall_score:+.2f}[/red]\"\n",
    "    else:\n",
    "        overall_display = f\"[yellow]😐 {overall_score:+.2f}[/yellow]\"\n",
    "    \n",
    "    console.print(f\"\\n[bold]Overall Sentiment Score:[/bold] {overall_display}\")\n",
    "    \n",
    "    return state"
   ]
  },
  {
   "cell_type": "markdown",
   "metadata": {},
   "source": [
    "## Graph Workflow\n",
    "\n",
    "Define and compile the workflow graph:"
   ]
  },
  {
   "cell_type": "code",
   "execution_count": 134,
   "metadata": {},
   "outputs": [],
   "source": [
    "def create_sentiment_graph():\n",
    "    workflow = Graph()\n",
    "    workflow.set_entry_point(\"fetch\")\n",
    "\n",
    "    workflow.add_node(\"fetch\", fetch_reddit_content)\n",
    "    workflow.add_node(\"validate\", validate_reddit_content)\n",
    "    workflow.add_node(\"analyze\", analyze_comment_sentiment)\n",
    "    workflow.add_node(\"calculate\", calculate_overall_sentiment)\n",
    "    workflow.add_node(\"print\", print_analysis)\n",
    "\n",
    "    workflow.add_edge(\"fetch\", \"validate\")\n",
    "    workflow.add_edge(\"analyze\", \"calculate\")\n",
    "    workflow.add_edge(\"calculate\", \"print\")\n",
    "    workflow.add_edge(\"print\", END)\n",
    "\n",
    "    workflow.add_conditional_edges(\n",
    "        source=\"validate\",\n",
    "        path=determine_path,\n",
    "        path_map={\"analyze\": \"analyze\", END: END}\n",
    "    )\n",
    "\n",
    "    return workflow.compile()"
   ]
  },
  {
   "cell_type": "markdown",
   "metadata": {},
   "source": [
    "## Graph Visualization\n",
    "\n",
    "Visualize the workflow graph:"
   ]
  },
  {
   "cell_type": "code",
   "execution_count": 135,
   "metadata": {},
   "outputs": [
    {
     "data": {
      "image/png": "[encoded data removed]",
      "text/plain": [
       "<IPython.core.display.Image object>"
      ]
     },
     "metadata": {},
     "output_type": "display_data"
    }
   ],
   "source": [
    "graph = create_sentiment_graph()\n",
    "\n",
    "display(\n",
    "    IPImage(\n",
    "        graph.get_graph().draw_mermaid_png(\n",
    "            draw_method=MermaidDrawMethod.API,\n",
    "        )\n",
    "    )\n",
    ")"
   ]
  },
  {
   "cell_type": "markdown",
   "metadata": {},
   "source": [
    "# Executing the Workflow\n",
    "\n",
    "Run the graph with an initial state.\n",
    "Feel free to change the Reddit post URL in the `initial_state` to analyze different posts comments."
   ]
  },
  {
   "cell_type": "code",
   "execution_count": 136,
   "metadata": {},
   "outputs": [
    {
     "data": {
      "text/html": [
       "<pre style=\"white-space:pre;overflow-x:auto;line-height:normal;font-family:Menlo,'DejaVu Sans Mono',consolas,'Courier New',monospace\">\n",
       "<span style=\"font-weight: bold; text-decoration: underline\">Reddit Comment Sentiment Analysis</span>\n",
       "\n",
       "</pre>\n"
      ],
      "text/plain": [
       "\n",
       "\u001b[1;4mReddit Comment Sentiment Analysis\u001b[0m\n",
       "\n"
      ]
     },
     "metadata": {},
     "output_type": "display_data"
    },
    {
     "data": {
      "text/html": [
       "<pre style=\"white-space:pre;overflow-x:auto;line-height:normal;font-family:Menlo,'DejaVu Sans Mono',consolas,'Courier New',monospace\"><span style=\"font-weight: bold\">Post:</span> Jenkins or Girhub Actions\n",
       "\n",
       "</pre>\n"
      ],
      "text/plain": [
       "\u001b[1mPost:\u001b[0m Jenkins or Girhub Actions\n",
       "\n"
      ]
     },
     "metadata": {},
     "output_type": "display_data"
    },
    {
     "data": {
      "text/html": [
       "<pre style=\"white-space:pre;overflow-x:auto;line-height:normal;font-family:Menlo,'DejaVu Sans Mono',consolas,'Courier New',monospace\"><span style=\"font-weight: bold\">Individual Comments Analysis:</span>\n",
       "</pre>\n"
      ],
      "text/plain": [
       "\u001b[1mIndividual Comments Analysis:\u001b[0m\n"
      ]
     },
     "metadata": {},
     "output_type": "display_data"
    },
    {
     "data": {
      "text/html": [
       "<pre style=\"white-space:pre;overflow-x:auto;line-height:normal;font-family:Menlo,'DejaVu Sans Mono',consolas,'Courier New',monospace\">┏━━━━━━━━━━━━┳━━━━━━━━━━━┳━━━━━━━━━━━━━━━━━━━━━━━━━━━━━━━━━━━━━━━━━━━━━━━━━━━━┓\n",
       "┃<span style=\"color: #c0c0c0; text-decoration-color: #c0c0c0; font-weight: bold\"> Comment    </span>┃<span style=\"color: #c0c0c0; text-decoration-color: #c0c0c0; font-weight: bold\"> Sentiment </span>┃<span style=\"color: #c0c0c0; text-decoration-color: #c0c0c0; font-weight: bold\"> Reason                                             </span>┃\n",
       "┡━━━━━━━━━━━━╇━━━━━━━━━━━╇━━━━━━━━━━━━━━━━━━━━━━━━━━━━━━━━━━━━━━━━━━━━━━━━━━━━┩\n",
       "│<span style=\"color: #7f7f7f; text-decoration-color: #7f7f7f\"> 1          </span>│ <span style=\"color: #008000; text-decoration-color: #008000\">😊 +0.3</span>   │ The comment suggests GitHub Actions over Jenkins,  │\n",
       "│<span style=\"color: #7f7f7f; text-decoration-color: #7f7f7f\">            </span>│           │ indicating a positive sentiment towards GitHub     │\n",
       "│<span style=\"color: #7f7f7f; text-decoration-color: #7f7f7f\">            </span>│           │ Actions and a slightly negative sentiment towards  │\n",
       "│<span style=\"color: #7f7f7f; text-decoration-color: #7f7f7f\">            </span>│           │ Jenkins. Key phrases: 'suggest GitHub actions',    │\n",
       "│<span style=\"color: #7f7f7f; text-decoration-color: #7f7f7f\">            </span>│           │ 'Jenkins... has been gradually fading'.            │\n",
       "│<span style=\"color: #7f7f7f; text-decoration-color: #7f7f7f\"> 2          </span>│ <span style=\"color: #008000; text-decoration-color: #008000\">😊 +0.5</span>   │ The comment strongly favors GitHub Actions and     │\n",
       "│<span style=\"color: #7f7f7f; text-decoration-color: #7f7f7f\">            </span>│           │ criticizes Jenkins for being outdated and having   │\n",
       "│<span style=\"color: #7f7f7f; text-decoration-color: #7f7f7f\">            </span>│           │ security risks. Key phrases: 'GitHub actions',     │\n",
       "│<span style=\"color: #7f7f7f; text-decoration-color: #7f7f7f\">            </span>│           │ 'Jenkins is just outdated', 'huge security risks'. │\n",
       "│<span style=\"color: #7f7f7f; text-decoration-color: #7f7f7f\"> 3          </span>│ <span style=\"color: #808000; text-decoration-color: #808000\">😐 +0.0</span>   │ The comment is neutral and simply suggests GitLab  │\n",
       "│<span style=\"color: #7f7f7f; text-decoration-color: #7f7f7f\">            </span>│           │ without any emotional language or criticism. Key   │\n",
       "│<span style=\"color: #7f7f7f; text-decoration-color: #7f7f7f\">            </span>│           │ phrase: 'GitLab'.                                  │\n",
       "│<span style=\"color: #7f7f7f; text-decoration-color: #7f7f7f\"> 4          </span>│ <span style=\"color: #808000; text-decoration-color: #808000\">😐 +0.0</span>   │ The comment is neutral and advises considering the │\n",
       "│<span style=\"color: #7f7f7f; text-decoration-color: #7f7f7f\">            </span>│           │ business case rather than popularity. Key phrases: │\n",
       "│<span style=\"color: #7f7f7f; text-decoration-color: #7f7f7f\">            </span>│           │ 'The right tech isn't always a popularity          │\n",
       "│<span style=\"color: #7f7f7f; text-decoration-color: #7f7f7f\">            </span>│           │ contest', 'make the business case'.                │\n",
       "│<span style=\"color: #7f7f7f; text-decoration-color: #7f7f7f\"> 5          </span>│ <span style=\"color: #008000; text-decoration-color: #008000\">😊 +0.2</span>   │ The comment favors GitLab for its extensibility    │\n",
       "│<span style=\"color: #7f7f7f; text-decoration-color: #7f7f7f\">            </span>│           │ and criticizes Jenkins for being too complex. It   │\n",
       "│<span style=\"color: #7f7f7f; text-decoration-color: #7f7f7f\">            </span>│           │ is neutral towards GitHub Actions. Key phrases:    │\n",
       "│<span style=\"color: #7f7f7f; text-decoration-color: #7f7f7f\">            </span>│           │ 'GitLab does', 'Jenkins is too complex'.           │\n",
       "│<span style=\"color: #7f7f7f; text-decoration-color: #7f7f7f\"> 6          </span>│ <span style=\"color: #800000; text-decoration-color: #800000\">😞 -0.3</span>   │ The comment criticizes both GitHub Actions and     │\n",
       "│<span style=\"color: #7f7f7f; text-decoration-color: #7f7f7f\">            </span>│           │ Jenkins, but more heavily criticizes Jenkins. Key  │\n",
       "│<span style=\"color: #7f7f7f; text-decoration-color: #7f7f7f\">            </span>│           │ phrases: 'GitHub Actions is far from perfect',     │\n",
       "│<span style=\"color: #7f7f7f; text-decoration-color: #7f7f7f\">            </span>│           │ 'Jenkins is an operational and security            │\n",
       "│<span style=\"color: #7f7f7f; text-decoration-color: #7f7f7f\">            </span>│           │ nightmare'.                                        │\n",
       "│<span style=\"color: #7f7f7f; text-decoration-color: #7f7f7f\"> 7          </span>│ <span style=\"color: #808000; text-decoration-color: #808000\">😐 +0.0</span>   │ The comment suggests using GitHub/Gitea actions    │\n",
       "│<span style=\"color: #7f7f7f; text-decoration-color: #7f7f7f\">            </span>│           │ for building and Jenkins for deployment, showing a │\n",
       "│<span style=\"color: #7f7f7f; text-decoration-color: #7f7f7f\">            </span>│           │ mixed sentiment. Key phrases: 'github/gitea        │\n",
       "│<span style=\"color: #7f7f7f; text-decoration-color: #7f7f7f\">            </span>│           │ actions for building stuff', 'jenkins for          │\n",
       "│<span style=\"color: #7f7f7f; text-decoration-color: #7f7f7f\">            </span>│           │ deployment'.                                       │\n",
       "│<span style=\"color: #7f7f7f; text-decoration-color: #7f7f7f\"> 8          </span>│ <span style=\"color: #808000; text-decoration-color: #808000\">😐 +0.0</span>   │ The comment is neutral and simply suggests GitHub  │\n",
       "│<span style=\"color: #7f7f7f; text-decoration-color: #7f7f7f\">            </span>│           │ Actions. Key phrase: 'GHA'.                        │\n",
       "│<span style=\"color: #7f7f7f; text-decoration-color: #7f7f7f\"> 9          </span>│ <span style=\"color: #800000; text-decoration-color: #800000\">😞 -0.5</span>   │ The comment is negative towards Jenkins without    │\n",
       "│<span style=\"color: #7f7f7f; text-decoration-color: #7f7f7f\">            </span>│           │ suggesting an alternative. Key phrase: 'Not        │\n",
       "│<span style=\"color: #7f7f7f; text-decoration-color: #7f7f7f\">            </span>│           │ Jenkins'.                                          │\n",
       "│<span style=\"color: #7f7f7f; text-decoration-color: #7f7f7f\"> 10         </span>│ <span style=\"color: #808000; text-decoration-color: #808000\">😐 +0.0</span>   │ The comment is neutral and describes the use of    │\n",
       "│<span style=\"color: #7f7f7f; text-decoration-color: #7f7f7f\">            </span>│           │ both Jenkins and GitHub Actions during a           │\n",
       "│<span style=\"color: #7f7f7f; text-decoration-color: #7f7f7f\">            </span>│           │ transition period. Key phrases: 'legacy one is     │\n",
       "│<span style=\"color: #7f7f7f; text-decoration-color: #7f7f7f\">            </span>│           │ still on Jenkins', 'new one is using GA'.          │\n",
       "└────────────┴───────────┴────────────────────────────────────────────────────┘\n",
       "</pre>\n"
      ],
      "text/plain": [
       "┏━━━━━━━━━━━━┳━━━━━━━━━━━┳━━━━━━━━━━━━━━━━━━━━━━━━━━━━━━━━━━━━━━━━━━━━━━━━━━━━┓\n",
       "┃\u001b[1;37m \u001b[0m\u001b[1;37mComment   \u001b[0m\u001b[1;37m \u001b[0m┃\u001b[1;37m \u001b[0m\u001b[1;37mSentiment\u001b[0m\u001b[1;37m \u001b[0m┃\u001b[1;37m \u001b[0m\u001b[1;37mReason                                            \u001b[0m\u001b[1;37m \u001b[0m┃\n",
       "┡━━━━━━━━━━━━╇━━━━━━━━━━━╇━━━━━━━━━━━━━━━━━━━━━━━━━━━━━━━━━━━━━━━━━━━━━━━━━━━━┩\n",
       "│\u001b[2m \u001b[0m\u001b[2m1         \u001b[0m\u001b[2m \u001b[0m│ \u001b[32m😊 +0.3\u001b[0m   │ The comment suggests GitHub Actions over Jenkins,  │\n",
       "│\u001b[2m            \u001b[0m│           │ indicating a positive sentiment towards GitHub     │\n",
       "│\u001b[2m            \u001b[0m│           │ Actions and a slightly negative sentiment towards  │\n",
       "│\u001b[2m            \u001b[0m│           │ Jenkins. Key phrases: 'suggest GitHub actions',    │\n",
       "│\u001b[2m            \u001b[0m│           │ 'Jenkins... has been gradually fading'.            │\n",
       "│\u001b[2m \u001b[0m\u001b[2m2         \u001b[0m\u001b[2m \u001b[0m│ \u001b[32m😊 +0.5\u001b[0m   │ The comment strongly favors GitHub Actions and     │\n",
       "│\u001b[2m            \u001b[0m│           │ criticizes Jenkins for being outdated and having   │\n",
       "│\u001b[2m            \u001b[0m│           │ security risks. Key phrases: 'GitHub actions',     │\n",
       "│\u001b[2m            \u001b[0m│           │ 'Jenkins is just outdated', 'huge security risks'. │\n",
       "│\u001b[2m \u001b[0m\u001b[2m3         \u001b[0m\u001b[2m \u001b[0m│ \u001b[33m😐 +0.0\u001b[0m   │ The comment is neutral and simply suggests GitLab  │\n",
       "│\u001b[2m            \u001b[0m│           │ without any emotional language or criticism. Key   │\n",
       "│\u001b[2m            \u001b[0m│           │ phrase: 'GitLab'.                                  │\n",
       "│\u001b[2m \u001b[0m\u001b[2m4         \u001b[0m\u001b[2m \u001b[0m│ \u001b[33m😐 +0.0\u001b[0m   │ The comment is neutral and advises considering the │\n",
       "│\u001b[2m            \u001b[0m│           │ business case rather than popularity. Key phrases: │\n",
       "│\u001b[2m            \u001b[0m│           │ 'The right tech isn't always a popularity          │\n",
       "│\u001b[2m            \u001b[0m│           │ contest', 'make the business case'.                │\n",
       "│\u001b[2m \u001b[0m\u001b[2m5         \u001b[0m\u001b[2m \u001b[0m│ \u001b[32m😊 +0.2\u001b[0m   │ The comment favors GitLab for its extensibility    │\n",
       "│\u001b[2m            \u001b[0m│           │ and criticizes Jenkins for being too complex. It   │\n",
       "│\u001b[2m            \u001b[0m│           │ is neutral towards GitHub Actions. Key phrases:    │\n",
       "│\u001b[2m            \u001b[0m│           │ 'GitLab does', 'Jenkins is too complex'.           │\n",
       "│\u001b[2m \u001b[0m\u001b[2m6         \u001b[0m\u001b[2m \u001b[0m│ \u001b[31m😞 -0.3\u001b[0m   │ The comment criticizes both GitHub Actions and     │\n",
       "│\u001b[2m            \u001b[0m│           │ Jenkins, but more heavily criticizes Jenkins. Key  │\n",
       "│\u001b[2m            \u001b[0m│           │ phrases: 'GitHub Actions is far from perfect',     │\n",
       "│\u001b[2m            \u001b[0m│           │ 'Jenkins is an operational and security            │\n",
       "│\u001b[2m            \u001b[0m│           │ nightmare'.                                        │\n",
       "│\u001b[2m \u001b[0m\u001b[2m7         \u001b[0m\u001b[2m \u001b[0m│ \u001b[33m😐 +0.0\u001b[0m   │ The comment suggests using GitHub/Gitea actions    │\n",
       "│\u001b[2m            \u001b[0m│           │ for building and Jenkins for deployment, showing a │\n",
       "│\u001b[2m            \u001b[0m│           │ mixed sentiment. Key phrases: 'github/gitea        │\n",
       "│\u001b[2m            \u001b[0m│           │ actions for building stuff', 'jenkins for          │\n",
       "│\u001b[2m            \u001b[0m│           │ deployment'.                                       │\n",
       "│\u001b[2m \u001b[0m\u001b[2m8         \u001b[0m\u001b[2m \u001b[0m│ \u001b[33m😐 +0.0\u001b[0m   │ The comment is neutral and simply suggests GitHub  │\n",
       "│\u001b[2m            \u001b[0m│           │ Actions. Key phrase: 'GHA'.                        │\n",
       "│\u001b[2m \u001b[0m\u001b[2m9         \u001b[0m\u001b[2m \u001b[0m│ \u001b[31m😞 -0.5\u001b[0m   │ The comment is negative towards Jenkins without    │\n",
       "│\u001b[2m            \u001b[0m│           │ suggesting an alternative. Key phrase: 'Not        │\n",
       "│\u001b[2m            \u001b[0m│           │ Jenkins'.                                          │\n",
       "│\u001b[2m \u001b[0m\u001b[2m10        \u001b[0m\u001b[2m \u001b[0m│ \u001b[33m😐 +0.0\u001b[0m   │ The comment is neutral and describes the use of    │\n",
       "│\u001b[2m            \u001b[0m│           │ both Jenkins and GitHub Actions during a           │\n",
       "│\u001b[2m            \u001b[0m│           │ transition period. Key phrases: 'legacy one is     │\n",
       "│\u001b[2m            \u001b[0m│           │ still on Jenkins', 'new one is using GA'.          │\n",
       "└────────────┴───────────┴────────────────────────────────────────────────────┘\n"
      ]
     },
     "metadata": {},
     "output_type": "display_data"
    },
    {
     "data": {
      "text/html": [
       "<pre style=\"white-space:pre;overflow-x:auto;line-height:normal;font-family:Menlo,'DejaVu Sans Mono',consolas,'Courier New',monospace\">\n",
       "<span style=\"font-weight: bold\">Overall Sentiment Score:</span> <span style=\"color: #808000; text-decoration-color: #808000\">😐 +</span><span style=\"color: #808000; text-decoration-color: #808000; font-weight: bold\">0.02</span>\n",
       "</pre>\n"
      ],
      "text/plain": [
       "\n",
       "\u001b[1mOverall Sentiment Score:\u001b[0m \u001b[33m😐 +\u001b[0m\u001b[1;33m0.02\u001b[0m\n"
      ]
     },
     "metadata": {},
     "output_type": "display_data"
    }
   ],
   "source": [
    "initial_state = GraphState(\n",
    "    url=\"https://www.reddit.com/r/devops/comments/1hir6a5/jenkins_or_girhub_actions/\",\n",
    "    post=RedditPost(\n",
    "        title=\"\",\n",
    "        body=\"\",\n",
    "        comments=[]\n",
    "    ),\n",
    "    comment_sentiments=[],\n",
    "    overall_sentiment=0.0,\n",
    "    is_valid=False\n",
    ")\n",
    "\n",
    "result = graph.invoke(initial_state)"
   ]
  },
  {
   "cell_type": "markdown",
   "metadata": {},
   "source": [
    "# Summary\n",
    "\n",
    "This notebook integrates LangGraph and MistralAI's LLM to perform sentiment analysis on Reddit comments.\n",
    "It fetches posts, analyzes sentiments, aggregates results, and visualizes the workflow, providing insights into community sentiments effectively and efficiently."
   ]
  }
 ],
 "metadata": {
  "kernelspec": {
   "display_name": ".venv",
   "language": "python",
   "name": "python3"
  },
  "language_info": {
   "codemirror_mode": {
    "name": "ipython",
    "version": 3
   },
   "file_extension": ".py",
   "mimetype": "text/x-python",
   "name": "python",
   "nbconvert_exporter": "python",
   "pygments_lexer": "ipython3",
   "version": "3.9.6"
  }
 },
 "nbformat": 4,
 "nbformat_minor": 2
}
